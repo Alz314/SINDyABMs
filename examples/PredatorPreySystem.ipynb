{
 "cells": [
  {
   "cell_type": "code",
   "execution_count": 2,
   "metadata": {},
   "outputs": [],
   "source": [
    "using Revise"
   ]
  },
  {
   "cell_type": "code",
   "execution_count": 3,
   "metadata": {},
   "outputs": [],
   "source": [
    "using ModifiedSINDy # get the package by following instructions on readme.md from https://github.com/Alz314/ModifiedSINDy"
   ]
  },
  {
   "cell_type": "code",
   "execution_count": 4,
   "metadata": {},
   "outputs": [],
   "source": [
    "using Agents, GLMakie\n",
    "using Random\n",
    "using LinearAlgebra\n",
    "using LaTeXStrings"
   ]
  },
  {
   "cell_type": "code",
   "execution_count": 5,
   "metadata": {},
   "outputs": [
    {
     "name": "stderr",
     "output_type": "stream",
     "text": [
      "WARNING: using Flux.frequencies in module DataDrivenDiffEq conflicts with an existing identifier.\n",
      "┌ Info: DataDrivenDiffEq : OccamNet is available.\n",
      "└ @ DataDrivenDiffEq C:\\Users\\Alen\\.julia\\packages\\DataDrivenDiffEq\\fivVr\\src\\DataDrivenDiffEq.jl:168\n"
     ]
    }
   ],
   "source": [
    "using ReinforcementLearning"
   ]
  },
  {
   "attachments": {},
   "cell_type": "markdown",
   "metadata": {},
   "source": [
    "## ABM Implementation"
   ]
  },
  {
   "cell_type": "code",
   "execution_count": 6,
   "metadata": {},
   "outputs": [],
   "source": [
    "@agent Animal ContinuousAgent{2} begin \n",
    "    type::Symbol # :predator or :prey\n",
    "end"
   ]
  },
  {
   "cell_type": "code",
   "execution_count": 7,
   "metadata": {},
   "outputs": [
    {
     "data": {
      "text/plain": [
       "initialize_model (generic function with 1 method)"
      ]
     },
     "metadata": {},
     "output_type": "display_data"
    }
   ],
   "source": [
    "rand_vel(max) = (2 .* map(rand, (Float64, Float64)) .- 1) .* max\n",
    "\n",
    "function initialize_model(;\n",
    "    prey_pop = 400,\n",
    "    pred_pop = 50,\n",
    "    spacing = 1,\n",
    "    extent = (200, 200),\n",
    "    dt = 1,\n",
    "    sight = 3.0, # predator range of sight\n",
    "    temperature = 50.0, # temperature is a measure of the average velocity of the animals\n",
    "    pred_range = 0.5, # predator distance to prey to eat\n",
    "    pred_reprod = 0.2, # predator reproduction probability\n",
    "    pred_death = 0.01, # predator death probability\n",
    "    vel_ratio = 1.25, # ratio of predator to prey velocity \n",
    "    prey_reprod = 0.18, # prey reproduction probability\n",
    "    prey_death = 0.16, # prey death probability\n",
    "    explore = 0.1, # probability of random exploration\n",
    "    seed = 42\n",
    ")\n",
    "    space2d = ContinuousSpace(extent; spacing = spacing, periodic = true)\n",
    "    rng = Random.MersenneTwister(seed)\n",
    "\n",
    "    # make a dict of properties for the model\n",
    "    properties = Dict([:dt => dt, :sight => sight, :explore => explore, \n",
    "                       :temperature => temperature, :pred_range => pred_range, :pred_reprod => pred_reprod, :pred_death => pred_death, \n",
    "                       :vel_ratio => vel_ratio, :prey_reprod => prey_reprod, :prey_death => prey_death, :last_update => 0, :update_rate => 100])\n",
    "    model = ABM(Animal, space2d; rng, properties = properties, scheduler = Schedulers.Randomly())\n",
    "    prey_vel = temperature / 50\n",
    "    pred_vel = prey_vel * vel_ratio\n",
    "\n",
    "    # add agents randomly\n",
    "    for _ in 1:prey_pop\n",
    "        add_agent!(model, rand_vel(prey_vel), :prey)\n",
    "    end\n",
    "    for _ in 1:pred_pop\n",
    "        add_agent!(model, rand_vel(pred_vel), :predator)\n",
    "    end\n",
    "    return model\n",
    "end"
   ]
  },
  {
   "cell_type": "code",
   "execution_count": 8,
   "metadata": {},
   "outputs": [
    {
     "data": {
      "text/plain": [
       "step! (generic function with 2 methods)"
      ]
     },
     "metadata": {},
     "output_type": "display_data"
    }
   ],
   "source": [
    "function find_closest(target, agents, model, type)\n",
    "    # find the closest agent to the target\n",
    "    closest = first(agents)\n",
    "    closest_dist = euclidean_distance(target, closest, model)\n",
    "    if closest.type != type\n",
    "        closest = -1\n",
    "    end\n",
    "    for agent in agents\n",
    "        #skip other predators \n",
    "        agent.type != type && continue\n",
    "\n",
    "        dist = euclidean_distance(target, agent, model)\n",
    "        if dist < closest_dist\n",
    "            closest = agent\n",
    "            closest_dist = dist\n",
    "        end\n",
    "    end\n",
    "    return closest\n",
    "end\n",
    "\n",
    "function move_randomly!(agent::Animal, model)\n",
    "    if rand() < model.properties[:explore]\n",
    "        if agent.type == :predator\n",
    "            agent.vel = rand_vel(model.properties[:temperature]*model.properties[:vel_ratio]/50)\n",
    "        else\n",
    "            agent.vel = rand_vel(model.properties[:temperature]/50)\n",
    "        end\n",
    "    end\n",
    "    move_agent!(agent, model, model.properties[:dt])\n",
    "end\n",
    "\n",
    "get_norm_direction(from, to, model) = Tuple(normalize(collect(get_direction(from.pos, to.pos, model))))\n",
    "\n",
    "function agent_step!(agent::Animal, model) \n",
    "    agent.type == :predator ? predator_step!(agent, model) : prey_step!(agent, model)\n",
    "end\n",
    "\n",
    "function predator_step!(agent::Animal, model)\n",
    "    # get all neighbors within range as an iterator\n",
    "    neighbors = nearby_agents(agent, model, model.properties[:sight])\n",
    "    # check if the iterator is empty\n",
    "    if isempty(neighbors)\n",
    "        move_randomly!(agent, model)\n",
    "    else\n",
    "        # move towards the closest prey\n",
    "        closest_prey = find_closest(agent, neighbors, model, :prey)\n",
    "        # if none of the surrounding neighbors are prey, move randomly\n",
    "        if closest_prey == -1\n",
    "            move_randomly!(agent, model)\n",
    "        else\n",
    "            # update velocity\n",
    "            pred_vel = model.properties[:temperature]*model.properties[:vel_ratio]/50\n",
    "            agent.vel = get_norm_direction(agent, closest_prey, model) .* pred_vel\n",
    "            move_agent!(agent, model, model.properties[:dt])\n",
    "            # eat the prey\n",
    "            if euclidean_distance(agent, closest_prey, model) < model.properties[:pred_range]\n",
    "                remove_agent!(closest_prey, model)\n",
    "                # reproduce with probability pred_reprod\n",
    "                if rand() < model.properties[:pred_reprod]\n",
    "                    add_agent!(agent.pos, model, rand_vel(pred_vel), :predator)\n",
    "                end\n",
    "            end\n",
    "        end\n",
    "    end\n",
    "    # die with probability pred_death\n",
    "    if rand() < model.properties[:pred_death]\n",
    "        remove_agent!(agent, model)\n",
    "    end\n",
    "end\n",
    "\n",
    "function prey_step!(agent::Animal, model)\n",
    "    # get all neighbors within range as an iterator\n",
    "    neighbors = nearby_agents(agent, model, model.properties[:sight])\n",
    "    # check if the iterator is empty\n",
    "    if isempty(neighbors)\n",
    "        move_randomly!(agent, model)\n",
    "    else\n",
    "        # move away from the closest predator\n",
    "        closest_pred = find_closest(agent, neighbors, model, :predator)\n",
    "        # if none of the surrounding neighbors are predators, move randomly\n",
    "        if closest_pred == -1\n",
    "            move_randomly!(agent, model)\n",
    "            return\n",
    "        end\n",
    "        #if the predator is at the exact same position as the prey, move randomly\n",
    "        if closest_pred.pos == agent.pos\n",
    "            move_randomly!(agent, model)\n",
    "        else\n",
    "            # update velocity\n",
    "            agent.vel = get_norm_direction(closest_pred, agent, model) .* model.properties[:temperature]./50\n",
    "            move_agent!(agent, model, model.properties[:dt])\n",
    "        end\n",
    "    end\n",
    "    # reproduce with probability prey_reprod\n",
    "    if rand() < model.properties[:prey_reprod]\n",
    "        add_agent!(agent.pos, model, rand_vel(model.properties[:temperature]/50), :prey)\n",
    "    end\n",
    "    # die with probability prey_death\n",
    "    if rand() < model.properties[:prey_death]\n",
    "        remove_agent!(agent, model)\n",
    "    end\n",
    "end\n",
    "\n",
    "function system_update!(model)\n",
    "    # update the last_update property\n",
    "    model.properties[:last_update] += 1\n",
    "    # update the model every update_rate steps\n",
    "    if model.properties[:last_update] >= model.properties[:update_rate]\n",
    "        # reset the last_update property\n",
    "        model.properties[:last_update] = 0\n",
    "        # choose a new random pred reproduction probability\n",
    "        #model.properties[:pred_reprod] = rand(0.005:0.005:0.5)\n",
    "    end\n",
    "end\n",
    "\n",
    "step!(model::ABM, n::Int = 1) = Agents.step!(model, agent_step!, system_update!, n)"
   ]
  },
  {
   "attachments": {},
   "cell_type": "markdown",
   "metadata": {},
   "source": [
    "## Running and visualizing the ABM"
   ]
  },
  {
   "cell_type": "code",
   "execution_count": 9,
   "metadata": {},
   "outputs": [
    {
     "data": {
      "text/plain": [
       "ac (generic function with 1 method)"
      ]
     },
     "metadata": {},
     "output_type": "display_data"
    }
   ],
   "source": [
    "# need to run for the plots to display properly\n",
    "ac(a::Animal) = a.type == :predator ? :red : :green"
   ]
  },
  {
   "cell_type": "markdown",
   "metadata": {},
   "source": [
    "The following is how to run a single simulation and get a dataframe, skipping every 10 steps"
   ]
  },
  {
   "cell_type": "code",
   "execution_count": 10,
   "metadata": {},
   "outputs": [
    {
     "ename": "UndefVarError",
     "evalue": "UndefVarError: `adata` not defined",
     "output_type": "error",
     "traceback": [
      "UndefVarError: `adata` not defined\n",
      "\n",
      "Stacktrace:\n",
      " [1] top-level scope\n",
      "   @ c:\\Users\\Alen\\Julia\\projects\\SINDyABMs\\examples\\NewPredatorPrey.ipynb:4"
     ]
    }
   ],
   "source": [
    "model = initialize_model()\n",
    "skip(model, s) = s % 10 == 0 # you can change this to skip more or less often\n",
    "steps = 2000\n",
    "data = run!(model, agent_step!, steps; adata = adata, when = skip)"
   ]
  },
  {
   "cell_type": "markdown",
   "metadata": {},
   "source": [
    "This should open a window where you can play with different parameters for the simulation"
   ]
  },
  {
   "cell_type": "code",
   "execution_count": 11,
   "metadata": {},
   "outputs": [],
   "source": [
    "params = Dict(\n",
    "    :temperature => 1:1:100,\n",
    "    :vel_ratio => 0.1:0.1:3.0,\n",
    "    :sight => 0.2:0.2:10.0,\n",
    "    :pred_range => 0.1:0.1:5.0,\n",
    "    :pred_reprod => 0.01:0.01:0.5,\n",
    "    :pred_death => 0.01:0.01:0.5,\n",
    "    :prey_reprod => 0.01:0.01:0.5,\n",
    "    :prey_death => 0.01:0.01:0.5,\n",
    "    :explore => 0.01:0.01:1\n",
    ")\n",
    "model = initialize_model()\n",
    "fig, ax, abmobs = abmplot(model; ac = ac, agent_step! = agent_step!, model_step! = Agents.dummystep, params)\n",
    "fig"
   ]
  },
  {
   "cell_type": "markdown",
   "metadata": {},
   "source": [
    "This saves a video of a single simulation"
   ]
  },
  {
   "cell_type": "code",
   "execution_count": 12,
   "metadata": {},
   "outputs": [],
   "source": [
    "model = initialize_model()\n",
    "abmvideo(\"pred_prey.mp4\", model, agent_step!, dummystep; frames = 200, ac = ac)"
   ]
  },
  {
   "cell_type": "markdown",
   "metadata": {},
   "source": [
    "This should generate plots of each agents population in real time with the simulation.  \n",
    "Unfortunately, stopped working after the last Agents.jl update for some reason"
   ]
  },
  {
   "cell_type": "code",
   "execution_count": 13,
   "metadata": {},
   "outputs": [
    {
     "ename": "KeyError",
     "evalue": "KeyError: key :stepclick not found",
     "output_type": "error",
     "traceback": [
      "KeyError: key :stepclick not found\n",
      "\n",
      "Stacktrace:\n",
      " [1] getindex(h::Dict{Symbol, Observable}, key::Symbol)\n",
      "   @ Base .\\dict.jl:484\n",
      " [2] getindex\n",
      "   @ C:\\Users\\Alen\\.julia\\packages\\MakieCore\\rLlRw\\src\\attributes.jl:96 [inlined]\n",
      " [3] getindex(x::Mesh{Tuple{GeometryBasics.Mesh{3, Float32, GeometryBasics.TriangleP{3, Float32, GeometryBasics.PointMeta{3, Float32, Point{3, Float32}, (:normals,), Tuple{Vec{3, Float32}}}}, GeometryBasics.FaceView{GeometryBasics.TriangleP{3, Float32, GeometryBasics.PointMeta{3, Float32, Point{3, Float32}, (:normals,), Tuple{Vec{3, Float32}}}}, GeometryBasics.PointMeta{3, Float32, Point{3, Float32}, (:normals,), Tuple{Vec{3, Float32}}}, GeometryBasics.NgonFace{3, GeometryBasics.OffsetInteger{-1, UInt32}}, StructArrays.StructVector{GeometryBasics.PointMeta{3, Float32, Point{3, Float32}, (:normals,), Tuple{Vec{3, Float32}}}, NamedTuple{(:position, :normals), Tuple{Vector{Point{3, Float32}}, Vector{Vec{3, Float32}}}}, Int64}, Vector{GeometryBasics.NgonFace{3, GeometryBasics.OffsetInteger{-1, UInt32}}}}}}}, key::Symbol)\n",
      "   @ MakieCore C:\\Users\\Alen\\.julia\\packages\\MakieCore\\rLlRw\\src\\attributes.jl:192\n",
      " [4] getproperty(x::Mesh{Tuple{GeometryBasics.Mesh{3, Float32, GeometryBasics.TriangleP{3, Float32, GeometryBasics.PointMeta{3, Float32, Point{3, Float32}, (:normals,), Tuple{Vec{3, Float32}}}}, GeometryBasics.FaceView{GeometryBasics.TriangleP{3, Float32, GeometryBasics.PointMeta{3, Float32, Point{3, Float32}, (:normals,), Tuple{Vec{3, Float32}}}}, GeometryBasics.PointMeta{3, Float32, Point{3, Float32}, (:normals,), Tuple{Vec{3, Float32}}}, GeometryBasics.NgonFace{3, GeometryBasics.OffsetInteger{-1, UInt32}}, StructArrays.StructVector{GeometryBasics.PointMeta{3, Float32, Point{3, Float32}, (:normals,), Tuple{Vec{3, Float32}}}, NamedTuple{(:position, :normals), Tuple{Vector{Point{3, Float32}}, Vector{Vec{3, Float32}}}}, Int64}, Vector{GeometryBasics.NgonFace{3, GeometryBasics.OffsetInteger{-1, UInt32}}}}}}}, key::Symbol)\n",
      "   @ MakieCore C:\\Users\\Alen\\.julia\\packages\\MakieCore\\rLlRw\\src\\attributes.jl:83\n",
      " [5] abmexploration(model::StandardABM{ContinuousSpace{2, true, Float64, typeof(Agents.no_vel_update)}, Animal, Agents.Schedulers.Randomly, Dict{Symbol, Float64}, MersenneTwister}; figure::NamedTuple{(:resolution,), Tuple{Tuple{Int64, Int64}}}, axis::NamedTuple{(), Tuple{}}, alabels::Vector{String}, mlabels::Nothing, plotkwargs::NamedTuple{(), Tuple{}}, kwargs::Base.Pairs{Symbol, Any, NTuple{5, Symbol}, NamedTuple{(:agent_step!, :model_step!, :params, :ac, :adata), Tuple{typeof(agent_step!), typeof(dummystep), Dict{Symbol, AbstractRange}, typeof(ac), Vector{Tuple{Function, typeof(count)}}}}})\n",
      "   @ AgentsVisualizations C:\\Users\\Alen\\.julia\\packages\\Agents\\s8R5b\\ext\\AgentsVisualizations\\src\\convenience.jl:18\n",
      " [6] top-level scope\n",
      "   @ c:\\Users\\Alen\\Julia\\projects\\SINDyABMs\\examples\\NewPredatorPrey.ipynb:5"
     ]
    }
   ],
   "source": [
    "ispred(a::Animal) = a.type == :predator\n",
    "isprey(a::Animal) = a.type == :prey\n",
    "adata = [(ispred, count), (isprey, count)]\n",
    "model = initialize_model()\n",
    "fig, abmobs = abmexploration(model;\n",
    "    agent_step! = agent_step!, model_step! = Agents.dummystep, params, ac = ac,\n",
    "    adata, alabels = [\"Predator Count\", \"Prey Count\"]\n",
    ")\n",
    "fig"
   ]
  },
  {
   "attachments": {},
   "cell_type": "markdown",
   "metadata": {},
   "source": [
    "## Preprocessing Data"
   ]
  },
  {
   "cell_type": "markdown",
   "metadata": {},
   "source": [
    "How I am normalizing the data"
   ]
  },
  {
   "cell_type": "code",
   "execution_count": 14,
   "metadata": {},
   "outputs": [
    {
     "data": {
      "text/plain": [
       "normalize_data (generic function with 1 method)"
      ]
     },
     "metadata": {},
     "output_type": "display_data"
    }
   ],
   "source": [
    "function normalize_data(data::AbstractMatrix)\n",
    "    # normalize data to be between 0 and 1; dramatically improves performance\n",
    "    data_norm = zeros(size(data))\n",
    "    for i in 1:size(data, 2)\n",
    "        data_norm[:, i] = data[:, i]./maximum(data[:, i])\n",
    "    end\n",
    "    return data_norm\n",
    "end"
   ]
  },
  {
   "cell_type": "code",
   "execution_count": 37,
   "metadata": {},
   "outputs": [],
   "source": [
    "model = initialize_model()\n",
    "skip(model, s) = s % 10 == 0\n",
    "agents_data = run!(model, agent_step!, 2000; adata = adata)\n",
    "# make a matrix from the count_ispred and count_isprey columns of the agents_data dataframe\n",
    "dataset = hcat(agents_data[1].count_isprey, agents_data[1].count_ispred)\n",
    "# cutoff last 10 percent of data\n",
    "dataset = dataset[1:floor(Int, size(dataset, 1)*0.9), :]\n",
    "norm_data = normalize_data(dataset)\n",
    "dt = 1\n",
    "ues, dues = SG_smoothing_optim(norm_data, dt; loss_function = 2, disp_loss_landscape = false);"
   ]
  },
  {
   "cell_type": "markdown",
   "metadata": {},
   "source": [
    "This simply plots the smoothed data from the previous block"
   ]
  },
  {
   "cell_type": "code",
   "execution_count": 31,
   "metadata": {},
   "outputs": [
    {
     "data": {
      "text/plain": [
       "GLMakie.Screen(...)"
      ]
     },
     "metadata": {},
     "output_type": "display_data"
    }
   ],
   "source": [
    "function plot_population_2d(data::AbstractMatrix; title = \"Data\")\n",
    "    # set up figure\n",
    "    figure = Figure(resolution = (600, 400))\n",
    "    ax = figure[1, 1] = Axis(figure; xlabel = \"Step\", ylabel = \"Population\", title = title)\n",
    "    # plot individual populations from data\n",
    "    herbivorel = lines!(ax, data[:, 2], color = :cornsilk4)\n",
    "    grassl = lines!(ax, data[:, 1], color = :green)\n",
    "    # add legend\n",
    "    figure[1, 2] = Legend(figure, [grassl, herbivorel], [\"Prey\", \"Predator\"])\n",
    "    display(figure)\n",
    "end\n",
    "\n",
    "plot_population_2d(ues)"
   ]
  },
  {
   "attachments": {},
   "cell_type": "markdown",
   "metadata": {},
   "source": [
    "## Interactive SINDy"
   ]
  },
  {
   "cell_type": "markdown",
   "metadata": {},
   "source": [
    "Utility functions"
   ]
  },
  {
   "cell_type": "code",
   "execution_count": 17,
   "metadata": {},
   "outputs": [
    {
     "data": {
      "text/plain": [
       "build_eqn (generic function with 1 method)"
      ]
     },
     "metadata": {},
     "output_type": "display_data"
    }
   ],
   "source": [
    "# function to get the nearest odd number that is less than the given number\n",
    "function nearest_odd(n::Real)\n",
    "    # first convert n to an integer\n",
    "    n = round(Int, n)\n",
    "    if n % 2 == 0\n",
    "        return n - 1\n",
    "    else\n",
    "        return n - 2\n",
    "    end\n",
    "end\n",
    "\n",
    "\n",
    "function build_eqn(m, basis_latex)\n",
    "    # build the equation strings using matrix m and basis_latex, ignoring terms with coefficient of 0\n",
    "    eqn1 = \"\\\\frac{dx}{dt}=\"\n",
    "    eqn2 = \"\\\\frac{dy}{dt}=\"\n",
    "    eqn1_first = true\n",
    "    eqn2_first = true\n",
    "    for i in 1:size(m, 1)\n",
    "        if m[i, 1] != 0\n",
    "            if eqn1_first || m[i, 1] < 0\n",
    "                eqn1 *= string(round(m[i,1], sigdigits = 2))*basis_latex[i]\n",
    "                eqn1_first = false\n",
    "            else\n",
    "                eqn1 *= \"+\"*string(round(m[i,1], sigdigits = 2))*basis_latex[i]\n",
    "            end\n",
    "        end\n",
    "        if m[i, 2] != 0\n",
    "            if eqn2_first || m[i, 2] < 0\n",
    "                eqn2 *= string(round(m[i,2], sigdigits = 2))*basis_latex[i]\n",
    "                eqn2_first = false\n",
    "            else\n",
    "                eqn2 *= \"+\"*string(round(m[i,2], sigdigits = 2))*basis_latex[i]\n",
    "            end\n",
    "        end\n",
    "    end \n",
    "    return latexstring(eqn1), latexstring(eqn2)\n",
    "end"
   ]
  },
  {
   "cell_type": "markdown",
   "metadata": {},
   "source": [
    "The following code gives you a slider on window sizes for Savitzky Golay smoothing to see the effects in real time"
   ]
  },
  {
   "cell_type": "code",
   "execution_count": 18,
   "metadata": {},
   "outputs": [
    {
     "data": {
      "text/plain": [
       "GLMakie.Screen(...)"
      ]
     },
     "metadata": {},
     "output_type": "display_data"
    }
   ],
   "source": [
    "function view_windowsize_effect(data::AbstractMatrix)\n",
    "    # set up figure\n",
    "    fig = Figure(resolution = (600, 400))\n",
    "    ax = fig[1, 1] = Axis(fig; xlabel = \"Step\", ylabel = \"Population\", title = \"Window Size Effect\")\n",
    "    # get initial best estimate of smoothing\n",
    "    ues, dues, w_o = SG_smoothing_optim(data, 1; loss_function = 2, disp_loss_landscape = false, ret_window = true)\n",
    "    ues = Float32.(ues)\n",
    "    # set up the smoothing slider\n",
    "    windowsize = Slider(fig[2, 1], range = 3:2:299, startvalue = w_o)\n",
    "\n",
    "    # set up the plot\n",
    "    prey_data = Observable{AbstractArray}(ues[:, 1])\n",
    "    pred_data = Observable{AbstractArray}(ues[:, 2])\n",
    "    #disp_data = (x = prey_data, y = pred_data)\n",
    "    # set up action for when the slider is changed\n",
    "    w = windowsize.value\n",
    "    function smoothing_wrapper(w)\n",
    "        ues, dues = SG_smoothing(data, w, 1)\n",
    "        ues = Float32.(ues)\n",
    "        return ues\n",
    "    end\n",
    "    prey_data = @lift(smoothing_wrapper($w)[:, 1])\n",
    "    pred_data = @lift(smoothing_wrapper($w)[:, 2])\n",
    "    # plot the data\n",
    "    #preyl = lines!(ax, to_value(disp_data.x), color = :green)\n",
    "    #predl = lines!(ax, to_value(disp_data.y), color = :cornsilk4)\n",
    "    preyl = lines!(ax, prey_data, color = :green)\n",
    "    predl = lines!(ax, pred_data, color = :cornsilk4)\n",
    "    # add legend\n",
    "    fig[1, 2] = Legend(fig, [preyl, predl], [\"Prey\", \"Predator\"])\n",
    "    display(fig)\n",
    "end\n",
    "\n",
    "view_windowsize_effect(norm_data)"
   ]
  },
  {
   "cell_type": "markdown",
   "metadata": {},
   "source": [
    "The following gives you a huge window to not only run different simulations, but also smooth them and run SINDy.  \n",
    "Note: The first time you run SINDy, it will take a lot of time precompiling the code"
   ]
  },
  {
   "cell_type": "code",
   "execution_count": 35,
   "metadata": {},
   "outputs": [
    {
     "data": {
      "text/plain": [
       "GLMakie.Screen(...)"
      ]
     },
     "metadata": {},
     "output_type": "display_data"
    }
   ],
   "source": [
    "# set up figure\n",
    "fig = Figure(resolution = (1444, 980))\n",
    "data = Observable(norm_data)\n",
    "\n",
    "ax = Axis(fig[1:2, 1]; xlabel = \"Step\", ylabel = \"Population\", title = \"Smoothed Data\")\n",
    "# get initial best estimate of smoothing\n",
    "ues, dues, w_o = SG_smoothing_optim(data[], 1; loss_function = 2, disp_loss_landscape = false, ret_window = true, order = 3)\n",
    "#ues = Float32.(ues)\n",
    "# set up data generation sliders \n",
    "data_sliders = SliderGrid(\n",
    "    fig[1, 3],\n",
    "    (label = \"Timespan:\", range = 100:50:6000, startvalue = 2000),\n",
    "    (label = \"Record every N steps:\", range = 1:50, startvalue = 1),\n",
    "    (label = \"Initial Prey Population:\", range = 50:50:1000, startvalue = 400),\n",
    "    (label = \"Initial Predator Population:\", range = 10:10:500, startvalue = 50),\n",
    "    (label = \"Temperature:\", range = 1.0:1.0:100.0, startvalue = 50.0),\n",
    "    tellheight = false)\n",
    "n_steps = data_sliders.sliders[1].value\n",
    "record_every = data_sliders.sliders[2].value\n",
    "prey_pop = data_sliders.sliders[3].value\n",
    "pred_pop = data_sliders.sliders[4].value\n",
    "temp = data_sliders.sliders[5].value\n",
    "# set up the smoothing sliders\n",
    "sg_sliders = SliderGrid(\n",
    "    fig[3, 3],\n",
    "    (label = \"Window Size\", range = 5:2:301, startvalue = w_o),\n",
    "    (label = \"Order\", range = 2:10, startvalue = 3),\n",
    "    (label = \"Ensemble Batches\", range = 0:10:1000, startvalue = 100),\n",
    "    (label = \"Train-Test Split\", range = 0:0.05:1.0, startvalue = 0.9),\n",
    "    (label = \"Ensemble Tolerance\", range = 0:0.01:1.0, startvalue = 0.9),\n",
    "    tellheight = false)\n",
    "w = sg_sliders.sliders[1].value\n",
    "o = sg_sliders.sliders[2].value\n",
    "batches = sg_sliders.sliders[3].value\n",
    "train_test_split = sg_sliders.sliders[4].value\n",
    "tol = sg_sliders.sliders[5].value\n",
    "# set up button to generate data\n",
    "data_btn = Button(fig[2, 3], label = \"Generate Data\", tellwidth = false, tellheight = false)\n",
    "# set up button to run SINDy\n",
    "sindy_btn = Button(fig[4, 3], label = \"Run SINDy\", tellwidth = false, tellheight = false)\n",
    "# set up SINDy output text\n",
    "eqn1 = Observable(L\"\\frac{dx}{dt} = \\alpha x - \\beta x y\")\n",
    "eqn2 = Observable(L\"\\frac{dy}{dt} = \\delta x y - \\gamma y\")\n",
    "txt = Observable(\"Expected equations:\")\n",
    "# set up the plot\n",
    "prey_data = Observable{AbstractArray}(ues[:, 1])\n",
    "pred_data = Observable{AbstractArray}(ues[:, 2])\n",
    "prey_deriv_data = Observable{AbstractArray}(dues[:, 1])\n",
    "pred_deriv_data = Observable{AbstractArray}(dues[:, 2])\n",
    "# set up action for when the slider is changed\n",
    "function smoothing_wrapper(w, o)\n",
    "    ues, dues = SG_smoothing(data[], w, 1; order = o)\n",
    "    #ues = Float32.(ues)\n",
    "    return ues\n",
    "end\n",
    "\n",
    "function smoothing_wrapper_deriv(w, o)\n",
    "    ues, dues = SG_smoothing(data[], w, 1; order = o)\n",
    "    #dues = Float32.(dues)\n",
    "    return dues\n",
    "end\n",
    "\n",
    "prey_data = @lift(smoothing_wrapper($w, $o)[:, 1])\n",
    "pred_data = @lift(smoothing_wrapper($w, $o)[:, 2])\n",
    "prey_deriv_data = @lift(smoothing_wrapper_deriv($w, $o)[:, 1])\n",
    "pred_deriv_data = @lift(smoothing_wrapper_deriv($w, $o)[:, 2])\n",
    "# set up action for when data generation button is pressed\n",
    "on(data_btn.clicks) do _\n",
    "    model = initialize_model(prey_pop = prey_pop[], pred_pop = pred_pop[], temperature = temp[])\n",
    "    skip(model, s) = s % record_every[] == 0\n",
    "    agents_data = run!(model, agent_step!, n_steps[]; adata = adata, when = skip)\n",
    "    # make a matrix from the count_ispred and count_isprey columns of the agents_data dataframe\n",
    "    dataset = hcat(agents_data[1].count_isprey, agents_data[1].count_ispred)\n",
    "    # cutoff last 10 percent of data\n",
    "    dataset = dataset[1:floor(Int, size(dataset, 1)*0.9), :]\n",
    "    data.val = normalize_data(dataset)\n",
    "    ues, dues = SG_smoothing(data[], w[], 1; order = o[])\n",
    "    prey_data.val = ues[:, 1]\n",
    "    pred_data.val = ues[:, 2]\n",
    "    prey_deriv_data.val = dues[:, 1]\n",
    "    pred_deriv_data.val = dues[:, 2]\n",
    "    w[] = w.val\n",
    "end\n",
    "# set up action for when the button is pressed\n",
    "on(sindy_btn.clicks) do _\n",
    "    # remake ues and dues with the data we have\n",
    "    ues = [prey_data[] pred_data[]]\n",
    "    dues = [prey_deriv_data[] pred_deriv_data[]]\n",
    "    basis = [\n",
    "        BasisTerm(u -> u[:, 1]),\n",
    "        BasisTerm(u -> u[:, 2]),\n",
    "        BasisTerm(u -> u[:, 1] .* u[:, 2]),\n",
    "        BasisTerm(u -> u[:, 1] .^ 2),\n",
    "        BasisTerm(u -> u[:, 2] .^ 2)\n",
    "    ]\n",
    "    iter = 10\n",
    "    cs = exp10.(-10:0.1:-1)\n",
    "\n",
    "    alg = PFA(cs, 0.8)\n",
    "    prob = SINDy_Problem(ues, dues, 1, basis, iter, alg; STRRidge = true, )\n",
    "    m, _ = ensemble_solve_SINDy(prob,batches[], train_test_split[], tol[], true)\n",
    "\n",
    "    # get the equations\n",
    "    basis_latex = [\n",
    "        \"x\",\n",
    "        \"y\",\n",
    "        \"xy\",\n",
    "        \"x^2\",\n",
    "        \"y^2\"\n",
    "    ]\n",
    "    new_eqn1, new_eqn2 = build_eqn(m, basis_latex)\n",
    "    \n",
    "    # update the text\n",
    "    txt[] = \"SINDy Model:\"\n",
    "    eqn1[] = new_eqn1\n",
    "    eqn2[] = new_eqn2\n",
    "end\n",
    "# plot the data\n",
    "preyl = lines!(ax, prey_data, color = :green)\n",
    "predl = lines!(ax, pred_data, color = :cornsilk4)\n",
    "split_pos = @lift(floor(Int, size(data[])[1]*$train_test_split))\n",
    "splitl = vlines!(ax, split_pos, color = :orange, linestyle = :dash)\n",
    "\n",
    "ax_deriv = Axis(fig[1:2, 2]; xlabel = \"Step\", ylabel = \"Derivative\", title = \"Estimated Derivatives\")\n",
    "prey_derivl = lines!(prey_deriv_data, color = :green)\n",
    "pred_derivl = lines!(pred_deriv_data, color = :cornsilk4)\n",
    "splitl = vlines!(ax_deriv, split_pos, color = :orange, linestyle = :dash)\n",
    "\n",
    "# plot phase space\n",
    "ax_phase = Axis(fig[3:4, 1]; xlabel = \"Prey Population\", ylabel = \"Predator Population\", title = \"Phase Space\")\n",
    "lines!(ax_phase, prey_data, pred_data, color = :black)\n",
    "# plot estimated noise\n",
    "ax_noise = Axis(fig[3:4, 2]; xlabel = \"Step\", ylabel = \"Noise\", title = \"Estimated Noise\")\n",
    "prey_noise = @lift(data[][:, 1] .- $prey_data )\n",
    "prey_noisel = lines!(prey_noise, color = :green)\n",
    "pred_noise = @lift((data[][:, 2] .- $pred_data ))\n",
    "pred_noisel = lines!(pred_noise, color = :cornsilk4)\n",
    "Label(fig[5, 3], txt, justification = :center, tellheight = true, tellwidth = false, height = 0.1)\n",
    "Label(fig[6, 3], eqn1, justification = :center, tellheight = true, tellwidth = false, height = 15)\n",
    "Label(fig[7, 3], eqn2, justification = :center, tellheight = true, tellwidth = false, height = 15)\n",
    "# add legend\n",
    "fig[5, 1:2] = Legend(fig, [preyl, predl], [\"Prey\", \"Predator\"], orientation = :horizontal)\n",
    "display(fig)"
   ]
  },
  {
   "cell_type": "markdown",
   "metadata": {},
   "source": [
    "Now running SINDy the normal (boring) way"
   ]
  },
  {
   "cell_type": "code",
   "execution_count": 20,
   "metadata": {},
   "outputs": [
    {
     "name": "stdout",
     "output_type": "stream",
     "text": [
      "Expected coefficients:"
     ]
    },
    {
     "data": {
      "text/plain": [
       "5×2 Matrix{Int64}:\n",
       " 1  0\n",
       " 0  1\n",
       " 1  1\n",
       " 0  0\n",
       " 0  0"
      ]
     },
     "metadata": {},
     "output_type": "display_data"
    }
   ],
   "source": [
    "basis = [\n",
    "    BasisTerm(u -> u[:, 1]),\n",
    "    BasisTerm(u -> u[:, 2]),\n",
    "    BasisTerm(u -> u[:, 1] .* u[:, 2]),\n",
    "    BasisTerm(u -> u[:, 1] .^ 2),\n",
    "    BasisTerm(u -> u[:, 2] .^ 2)\n",
    "]\n",
    "print(\"Expected coefficients:\")\n",
    "expected_ips = [1 0; 0 1; 1 1; 0 0; 0 0]"
   ]
  },
  {
   "cell_type": "code",
   "execution_count": 38,
   "metadata": {},
   "outputs": [
    {
     "data": {
      "text/plain": [
       "5×2 Matrix{AbstractFloat}:\n",
       "  0.00198013   0.0\n",
       "  0.0         -0.00497864\n",
       " -0.00488867   0.0268356\n",
       "  0.0          0.0\n",
       "  0.0          0.0"
      ]
     },
     "metadata": {},
     "output_type": "display_data"
    },
    {
     "data": {
      "text/plain": [
       "5×2 Matrix{Float64}:\n",
       " 1.0   0.0\n",
       " 0.0   1.0\n",
       " 1.0   1.0\n",
       " 0.64  0.0\n",
       " 0.0   0.67"
      ]
     },
     "metadata": {},
     "output_type": "display_data"
    }
   ],
   "source": [
    "iter = 10\n",
    "cs = exp10.(-10:0.1:-1)\n",
    "tspan = (0, 1000-5)\n",
    "batches = 100; pct_size = 0.9; tol = 0.9; parallel = true\n",
    "\n",
    "alg = PFA(cs, 0.8)\n",
    "prob = SINDy_Problem(ues, dues, dt, basis, iter, alg; STRRidge = true, )\n",
    "m, ips = ensemble_solve_SINDy(prob,batches, pct_size, tol, parallel)\n",
    "display(m) # returned matrix\n",
    "display(ips) # inclusion probability"
   ]
  },
  {
   "attachments": {},
   "cell_type": "markdown",
   "metadata": {},
   "source": [
    "## Reinforcement learning (Unfinished)"
   ]
  },
  {
   "cell_type": "code",
   "execution_count": 25,
   "metadata": {},
   "outputs": [],
   "source": [
    "Base.@kwdef mutable struct ABMEnv{T<:AbstractFloat} <: AbstractEnv\n",
    "    reward::Union{Nothing, Int} = nothing\n",
    "    model::AgentBasedModel\n",
    "    state::Vector{T} # state is a vector of the predator and prey counts and rate of change and the current growth rate\n",
    "    action_space::Space{Vector{ClosedInterval{T}}}\n",
    "    temperature::T\n",
    "    done::Bool\n",
    "    tolerance::T\n",
    "end\n",
    "\n",
    "function RLBase.reset!(env::ABMEnv)\n",
    "    env.model = initialize_model()\n",
    "    env.growth_rate = env.model[:temperature]\n",
    "    env.done = false\n",
    "    env.state = [0.0, 0.0, 0.0, 0.0, 0.0]\n",
    "end\n",
    "\n",
    "function RLBase.is_terminated(env::ABMEnv)\n",
    "    if env.model.properties[:step] >= 10000\n",
    "        return true\n",
    "    elseif env.model.properties[:prey] <= 0.0 || env.model.properties[:predator] <= 0.0\n",
    "        return true\n",
    "    end\n",
    "    return false\n",
    "end\n",
    "\n",
    "function RLBase.state(env::ABMEnv)\n",
    "    return env.state\n",
    "end\n",
    "\n",
    "function RLBase.action_space(env::ABMEnv)\n",
    "    return env.action_space\n",
    "end\n",
    "\n",
    "function RLBase.reward(env::ABMEnv)\n",
    "    if env.model.properties[:prey] <= 0.0 || env.model.properties[:predator] <= 0.0\n",
    "        return -1\n",
    "    else\n",
    "        ratio = env.model.properties[:prey] / env.model.properties[:predator]\n",
    "        if abs(ratio - 2.0) > env.tolerance\n",
    "            return -1\n",
    "        else\n",
    "            return abs(ratio)\n",
    "        end\n",
    "    end\n",
    "end\n",
    "\n",
    "function (env::ABMEnv)(action)\n",
    "    env.growth_rate = max(min(env.temperature + env.actions[action], 100.0), 1.0)\n",
    "    env.model.properties[:temperature] = env.temperature\n",
    "end"
   ]
  }
 ],
 "metadata": {
  "kernelspec": {
   "display_name": "Julia 1.9.0",
   "language": "julia",
   "name": "julia-1.9"
  },
  "language_info": {
   "file_extension": ".jl",
   "mimetype": "application/julia",
   "name": "julia",
   "version": "1.9.0"
  },
  "orig_nbformat": 4
 },
 "nbformat": 4,
 "nbformat_minor": 2
}
